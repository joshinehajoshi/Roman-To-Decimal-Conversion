{
 "cells": [
  {
   "cell_type": "code",
   "execution_count": 6,
   "metadata": {},
   "outputs": [
    {
     "name": "stdout",
     "output_type": "stream",
     "text": [
      "10\n"
     ]
    }
   ],
   "source": [
    "l = {'I':1,'V':5,'X':10,'L':50,'C':100,'D':500,'M':100}\n",
    "\n",
    "def RomanToDecimal(r):\n",
    "    ans = 0\n",
    "    for i in range(len(r)):\n",
    "        if i+1 != len(r) and l[r[i]]<l[r[i+1]]:\n",
    "            ans = ans - l[r[i]]\n",
    "        else:\n",
    "            ans = ans + l[r[i]]\n",
    "    return ans\n",
    "print(RomanToDecimal('X'))\n",
    "    \n"
   ]
  },
  {
   "cell_type": "code",
   "execution_count": null,
   "metadata": {},
   "outputs": [],
   "source": []
  },
  {
   "cell_type": "code",
   "execution_count": null,
   "metadata": {},
   "outputs": [],
   "source": []
  }
 ],
 "metadata": {
  "kernelspec": {
   "display_name": "Python 3",
   "language": "python",
   "name": "python3"
  },
  "language_info": {
   "codemirror_mode": {
    "name": "ipython",
    "version": 3
   },
   "file_extension": ".py",
   "mimetype": "text/x-python",
   "name": "python",
   "nbconvert_exporter": "python",
   "pygments_lexer": "ipython3",
   "version": "3.7.6"
  }
 },
 "nbformat": 4,
 "nbformat_minor": 4
}
